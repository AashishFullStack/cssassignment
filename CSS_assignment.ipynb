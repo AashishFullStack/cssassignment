{
  "nbformat": 4,
  "nbformat_minor": 0,
  "metadata": {
    "colab": {
      "provenance": []
    },
    "kernelspec": {
      "name": "python3",
      "display_name": "Python 3"
    },
    "language_info": {
      "name": "python"
    }
  },
  "cells": [
    {
      "cell_type": "markdown",
      "source": [
        "1. Create a simple page with some div tags and show different ways to add CSS as well as what happens\n",
        "when you target the same elements with inline, internal, and external CSS. Also, utilize comments in the\n",
        "project where required?"
      ],
      "metadata": {
        "id": "ONnWl_oFUYHK"
      }
    },
    {
      "cell_type": "code",
      "source": [
        "<!DOCTYPE html>\n",
        "<html lang=\"en\">\n",
        "<head>\n",
        "    <meta charset=\"UTF-8\">\n",
        "    <meta name=\"viewport\" content=\"width=device-width, initial-scale=1.0\">\n",
        "    <title>CSS Assignment </title>\n",
        "    <!--External CSS file link -->\n",
        "    <link rel=\"stylesheet\" href=\"style.css\">\n",
        "\n",
        "    <!--Internal CSS file link -->\n",
        "    <style>\n",
        "        h2{\n",
        "            background-color: aqua;\n",
        "            color:darkmagenta;\n",
        "            text-align: center;\n",
        "        }\n",
        "        p{\n",
        "            background-color: brown;\n",
        "            color: tomato;\n",
        "        }\n",
        "body{\n",
        "    background-color: white;\n",
        "}\n",
        "    </style>\n",
        "</head>\n",
        "<body>\n",
        "\n",
        "<!-- Inline CSS Example -->\n",
        "<h1 style=\"color:lightgrey; background-color:lightsalmon; text-align: left;\">\n",
        "This is the Inline CSS example\n",
        "</h1>\n",
        "\n",
        "<div>\n",
        "<!-- Internal Css Example-->\n",
        "<h2> This is internal CSS example </h2>\n",
        "    <p>Lorem ipsum dolor, sit amet consectetur adipisicing elit. Vero quos nostrum distinctio delectus molestiae dolorem deserunt nulla totam quo sequi!</p>\n",
        "</div>\n",
        "\n",
        "<!--Example of External CSS -->\n",
        "<div class=\"header\">\n",
        "    This is the example of External CSS\n",
        "</div>\n",
        "<div class=\"second\">\n",
        "    This is the content in CSS\n",
        "</div>\n",
        "<div>\n",
        "    <p class=\"paragraph\">\n",
        "        Lorem ipsum dolor sit amet consectetur adipisicing elit. Saepe sapiente impedit at sint amet quod. Tenetur deserunt voluptatum pariatur nostrum, in hic, minima ea optio provident, delectus quod. Animi, ex!\n",
        "    </p>\n",
        "</div>\n",
        "</body>\n",
        "</html>"
      ],
      "metadata": {
        "id": "l90GNUnYUblb"
      },
      "execution_count": null,
      "outputs": []
    },
    {
      "cell_type": "code",
      "source": [
        ".header{\n",
        "    background-color: navy;\n",
        "    color: white;\n",
        "}\n",
        ".second{\n",
        "    background-color:pink;\n",
        "    color: black;\n",
        "}\n",
        ".paragraph{\n",
        "    background-color: rgb(34, 207, 155);\n",
        "    color: #801568;\n",
        "}"
      ],
      "metadata": {
        "id": "v6-4kvgvc2OP"
      },
      "execution_count": null,
      "outputs": []
    },
    {
      "cell_type": "markdown",
      "source": [
        "2. Build an HTML page with multiple paragraphs, each assigned a unique class name. Write CSS rules using\n",
        "class selectors to apply distinct styling to each paragraph. Follow the BEM naming convention and\n",
        "explain how you've named the classes?"
      ],
      "metadata": {
        "id": "gGVtDlH3c-7V"
      }
    },
    {
      "cell_type": "code",
      "source": [
        "<!DOCTYPE html>\n",
        "<html lang=\"en\">\n",
        "<head>\n",
        "    <meta charset=\"UTF-8\">\n",
        "    <meta name=\"viewport\" content=\"width=device-width, initial-scale=1.0\">\n",
        "    <title>Class use</title>\n",
        "    <link rel=\"stylesheet\" href=\"style.css\">\n",
        "</head>\n",
        "<body>\n",
        "    <div>\n",
        "        <p class=\"paragraph\">\n",
        "            This is the Paragraph 1\n",
        "        </p>\n",
        "        <p class=\"height\">\n",
        "            Lorem ipsum dolor sit amet consectetur adipisicing elit. Tempore eius totam, sequi ratione, incidunt eligendi ducimus praesentium ex adipisci inventore tempora perferendis necessitatibus repellendus porro, mollitia odit voluptatibus consectetur eum.\n",
        "        </p>\n",
        "        <p class=\"width\">\n",
        "            Lorem ipsum dolor, sit amet consectetur adipisicing elit. Eius, rerum incidunt, quam mollitia numquam officiis voluptates maxime reprehenderit quos, voluptate facere? Cupiditate blanditiis laboriosam illum eos enim. Excepturi, non blanditiis?\n",
        "        </p>\n",
        "    </div>\n",
        "</body>\n",
        "</html>"
      ],
      "metadata": {
        "id": "ZLWaIr8WdRNc"
      },
      "execution_count": null,
      "outputs": []
    },
    {
      "cell_type": "code",
      "source": [
        ".paragraph{\n",
        "    background-color: navy;\n",
        "    color: white;\n",
        "}\n",
        ".height{\n",
        "    background-color:pink;\n",
        "    color: black;\n",
        "}\n",
        ".width{\n",
        "    background-color: rgb(34, 207, 155);\n",
        "    color: #801568;\n",
        "}"
      ],
      "metadata": {
        "id": "AKahdJkzgVu1"
      },
      "execution_count": null,
      "outputs": []
    },
    {
      "cell_type": "markdown",
      "source": [
        "3. Develop an HTML form with various input elements. Use CSS to style the form, including setting\n",
        "background colors for input fields. Create a custom color palette for the form elements, and demonstrate\n",
        "how to apply opacity to one of the form sections?"
      ],
      "metadata": {
        "id": "rS9_p2eCguK_"
      }
    },
    {
      "cell_type": "code",
      "execution_count": null,
      "metadata": {
        "id": "r3o4eyYXUISF"
      },
      "outputs": [],
      "source": []
    },
    {
      "cell_type": "markdown",
      "source": [],
      "metadata": {
        "id": "pYEn3bepUVcM"
      }
    }
  ]
}